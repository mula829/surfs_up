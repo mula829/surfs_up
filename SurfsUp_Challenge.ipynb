{
 "cells": [
  {
   "cell_type": "code",
   "execution_count": 40,
   "metadata": {},
   "outputs": [
    {
     "name": "stdout",
     "output_type": "stream",
     "text": [
      "Requirement already satisfied: dataframe-image in c:\\users\\danny\\anaconda3\\envs\\pythondata\\lib\\site-packages (0.1.1)Note: you may need to restart the kernel to use updated packages.\n",
      "\n",
      "Requirement already satisfied: matplotlib>=3.1 in c:\\users\\danny\\anaconda3\\envs\\pythondata\\lib\\site-packages (from dataframe-image) (3.5.1)\n",
      "Requirement already satisfied: aiohttp in c:\\users\\danny\\anaconda3\\envs\\pythondata\\lib\\site-packages (from dataframe-image) (3.8.1)\n",
      "Requirement already satisfied: requests in c:\\users\\danny\\anaconda3\\envs\\pythondata\\lib\\site-packages (from dataframe-image) (2.27.1)\n",
      "Requirement already satisfied: pandas>=0.24 in c:\\users\\danny\\anaconda3\\envs\\pythondata\\lib\\site-packages (from dataframe-image) (1.3.5)\n",
      "Requirement already satisfied: beautifulsoup4 in c:\\users\\danny\\anaconda3\\envs\\pythondata\\lib\\site-packages (from dataframe-image) (4.11.1)\n",
      "Requirement already satisfied: nbconvert>=5 in c:\\users\\danny\\anaconda3\\envs\\pythondata\\lib\\site-packages (from dataframe-image) (6.4.4)\n",
      "Requirement already satisfied: pillow>=6.2.0 in c:\\users\\danny\\anaconda3\\envs\\pythondata\\lib\\site-packages (from matplotlib>=3.1->dataframe-image) (9.0.1)\n",
      "Requirement already satisfied: cycler>=0.10 in c:\\users\\danny\\anaconda3\\envs\\pythondata\\lib\\site-packages (from matplotlib>=3.1->dataframe-image) (0.11.0)\n",
      "Requirement already satisfied: numpy>=1.17 in c:\\users\\danny\\anaconda3\\envs\\pythondata\\lib\\site-packages (from matplotlib>=3.1->dataframe-image) (1.21.5)\n",
      "Requirement already satisfied: fonttools>=4.22.0 in c:\\users\\danny\\anaconda3\\envs\\pythondata\\lib\\site-packages (from matplotlib>=3.1->dataframe-image) (4.25.0)\n",
      "Requirement already satisfied: pyparsing>=2.2.1 in c:\\users\\danny\\anaconda3\\envs\\pythondata\\lib\\site-packages (from matplotlib>=3.1->dataframe-image) (3.0.4)\n",
      "Requirement already satisfied: kiwisolver>=1.0.1 in c:\\users\\danny\\anaconda3\\envs\\pythondata\\lib\\site-packages (from matplotlib>=3.1->dataframe-image) (1.3.2)\n",
      "Requirement already satisfied: python-dateutil>=2.7 in c:\\users\\danny\\anaconda3\\envs\\pythondata\\lib\\site-packages (from matplotlib>=3.1->dataframe-image) (2.8.2)\n",
      "Requirement already satisfied: packaging>=20.0 in c:\\users\\danny\\anaconda3\\envs\\pythondata\\lib\\site-packages (from matplotlib>=3.1->dataframe-image) (21.3)\n",
      "Requirement already satisfied: jupyter-core in c:\\users\\danny\\anaconda3\\envs\\pythondata\\lib\\site-packages (from nbconvert>=5->dataframe-image) (4.9.2)\n",
      "Requirement already satisfied: nbclient<0.6.0,>=0.5.0 in c:\\users\\danny\\anaconda3\\envs\\pythondata\\lib\\site-packages (from nbconvert>=5->dataframe-image) (0.5.13)\n",
      "Requirement already satisfied: testpath in c:\\users\\danny\\anaconda3\\envs\\pythondata\\lib\\site-packages (from nbconvert>=5->dataframe-image) (0.5.0)\n",
      "Requirement already satisfied: mistune<2,>=0.8.1 in c:\\users\\danny\\anaconda3\\envs\\pythondata\\lib\\site-packages (from nbconvert>=5->dataframe-image) (0.8.4)\n",
      "Requirement already satisfied: jupyterlab-pygments in c:\\users\\danny\\anaconda3\\envs\\pythondata\\lib\\site-packages (from nbconvert>=5->dataframe-image) (0.1.2)\n",
      "Requirement already satisfied: defusedxml in c:\\users\\danny\\anaconda3\\envs\\pythondata\\lib\\site-packages (from nbconvert>=5->dataframe-image) (0.7.1)\n",
      "Requirement already satisfied: pygments>=2.4.1 in c:\\users\\danny\\anaconda3\\envs\\pythondata\\lib\\site-packages (from nbconvert>=5->dataframe-image) (2.11.2)\n",
      "Requirement already satisfied: nbformat>=4.4 in c:\\users\\danny\\anaconda3\\envs\\pythondata\\lib\\site-packages (from nbconvert>=5->dataframe-image) (5.3.0)\n",
      "Requirement already satisfied: entrypoints>=0.2.2 in c:\\users\\danny\\anaconda3\\envs\\pythondata\\lib\\site-packages (from nbconvert>=5->dataframe-image) (0.4)\n",
      "Requirement already satisfied: jinja2>=2.4 in c:\\users\\danny\\anaconda3\\envs\\pythondata\\lib\\site-packages (from nbconvert>=5->dataframe-image) (2.11.3)\n",
      "Requirement already satisfied: pandocfilters>=1.4.1 in c:\\users\\danny\\anaconda3\\envs\\pythondata\\lib\\site-packages (from nbconvert>=5->dataframe-image) (1.5.0)\n",
      "Requirement already satisfied: bleach in c:\\users\\danny\\anaconda3\\envs\\pythondata\\lib\\site-packages (from nbconvert>=5->dataframe-image) (4.1.0)\n",
      "Requirement already satisfied: traitlets>=5.0 in c:\\users\\danny\\anaconda3\\envs\\pythondata\\lib\\site-packages (from nbconvert>=5->dataframe-image) (5.1.1)\n",
      "Requirement already satisfied: MarkupSafe>=0.23 in c:\\users\\danny\\anaconda3\\envs\\pythondata\\lib\\site-packages (from jinja2>=2.4->nbconvert>=5->dataframe-image) (2.0.1)\n",
      "Requirement already satisfied: nest-asyncio in c:\\users\\danny\\anaconda3\\envs\\pythondata\\lib\\site-packages (from nbclient<0.6.0,>=0.5.0->nbconvert>=5->dataframe-image) (1.5.5)\n",
      "Requirement already satisfied: jupyter-client>=6.1.5 in c:\\users\\danny\\anaconda3\\envs\\pythondata\\lib\\site-packages (from nbclient<0.6.0,>=0.5.0->nbconvert>=5->dataframe-image) (6.1.12)\n",
      "Requirement already satisfied: tornado>=4.1 in c:\\users\\danny\\anaconda3\\envs\\pythondata\\lib\\site-packages (from jupyter-client>=6.1.5->nbclient<0.6.0,>=0.5.0->nbconvert>=5->dataframe-image) (6.1)\n",
      "Requirement already satisfied: pyzmq>=13 in c:\\users\\danny\\anaconda3\\envs\\pythondata\\lib\\site-packages (from jupyter-client>=6.1.5->nbclient<0.6.0,>=0.5.0->nbconvert>=5->dataframe-image) (22.3.0)\n",
      "Requirement already satisfied: pywin32>=1.0 in c:\\users\\danny\\anaconda3\\envs\\pythondata\\lib\\site-packages (from jupyter-core->nbconvert>=5->dataframe-image) (302)\n",
      "Requirement already satisfied: jsonschema>=2.6 in c:\\users\\danny\\anaconda3\\envs\\pythondata\\lib\\site-packages (from nbformat>=4.4->nbconvert>=5->dataframe-image) (4.4.0)\n",
      "Requirement already satisfied: fastjsonschema in c:\\users\\danny\\anaconda3\\envs\\pythondata\\lib\\site-packages (from nbformat>=4.4->nbconvert>=5->dataframe-image) (2.15.1)\n",
      "Requirement already satisfied: importlib-resources>=1.4.0 in c:\\users\\danny\\anaconda3\\envs\\pythondata\\lib\\site-packages (from jsonschema>=2.6->nbformat>=4.4->nbconvert>=5->dataframe-image) (5.2.0)\n",
      "Requirement already satisfied: importlib-metadata in c:\\users\\danny\\anaconda3\\envs\\pythondata\\lib\\site-packages (from jsonschema>=2.6->nbformat>=4.4->nbconvert>=5->dataframe-image) (4.11.3)\n",
      "Requirement already satisfied: pyrsistent!=0.17.0,!=0.17.1,!=0.17.2,>=0.14.0 in c:\\users\\danny\\anaconda3\\envs\\pythondata\\lib\\site-packages (from jsonschema>=2.6->nbformat>=4.4->nbconvert>=5->dataframe-image) (0.18.0)\n",
      "Requirement already satisfied: typing-extensions in c:\\users\\danny\\anaconda3\\envs\\pythondata\\lib\\site-packages (from jsonschema>=2.6->nbformat>=4.4->nbconvert>=5->dataframe-image) (4.1.1)\n",
      "Requirement already satisfied: attrs>=17.4.0 in c:\\users\\danny\\anaconda3\\envs\\pythondata\\lib\\site-packages (from jsonschema>=2.6->nbformat>=4.4->nbconvert>=5->dataframe-image) (21.4.0)\n",
      "Requirement already satisfied: zipp>=3.1.0 in c:\\users\\danny\\anaconda3\\envs\\pythondata\\lib\\site-packages (from importlib-resources>=1.4.0->jsonschema>=2.6->nbformat>=4.4->nbconvert>=5->dataframe-image) (3.7.0)\n",
      "Requirement already satisfied: pytz>=2017.3 in c:\\users\\danny\\anaconda3\\envs\\pythondata\\lib\\site-packages (from pandas>=0.24->dataframe-image) (2021.3)\n",
      "Requirement already satisfied: six>=1.5 in c:\\users\\danny\\anaconda3\\envs\\pythondata\\lib\\site-packages (from python-dateutil>=2.7->matplotlib>=3.1->dataframe-image) (1.16.0)\n",
      "Requirement already satisfied: frozenlist>=1.1.1 in c:\\users\\danny\\anaconda3\\envs\\pythondata\\lib\\site-packages (from aiohttp->dataframe-image) (1.2.0)\n",
      "Requirement already satisfied: aiosignal>=1.1.2 in c:\\users\\danny\\anaconda3\\envs\\pythondata\\lib\\site-packages (from aiohttp->dataframe-image) (1.2.0)\n",
      "Requirement already satisfied: charset-normalizer<3.0,>=2.0 in c:\\users\\danny\\anaconda3\\envs\\pythondata\\lib\\site-packages (from aiohttp->dataframe-image) (2.0.4)\n",
      "Requirement already satisfied: asynctest==0.13.0 in c:\\users\\danny\\anaconda3\\envs\\pythondata\\lib\\site-packages (from aiohttp->dataframe-image) (0.13.0)"
     ]
    }
   ],
   "source": [
    "pip install dataframe-image"
   ]
  },
  {
   "cell_type": "code",
   "execution_count": 41,
   "metadata": {},
   "outputs": [
    {
     "name": "stdout",
     "output_type": "stream",
     "text": [
      "\n",
      "Requirement already satisfied: multidict<7.0,>=4.5 in c:\\users\\danny\\anaconda3\\envs\\pythondata\\lib\\site-packages (from aiohttp->dataframe-image) (5.1.0)\n",
      "Requirement already satisfied: async-timeout<5.0,>=4.0.0a3 in c:\\users\\danny\\anaconda3\\envs\\pythondata\\lib\\site-packages (from aiohttp->dataframe-image) (4.0.1)\n",
      "Requirement already satisfied: yarl<2.0,>=1.0 in c:\\users\\danny\\anaconda3\\envs\\pythondata\\lib\\site-packages (from aiohttp->dataframe-image) (1.5.1)\n",
      "Requirement already satisfied: idna>=2.0 in c:\\users\\danny\\anaconda3\\envs\\pythondata\\lib\\site-packages (from yarl<2.0,>=1.0->aiohttp->dataframe-image) (3.3)\n",
      "Requirement already satisfied: soupsieve>1.2 in c:\\users\\danny\\anaconda3\\envs\\pythondata\\lib\\site-packages (from beautifulsoup4->dataframe-image) (2.3.1)\n",
      "Requirement already satisfied: webencodings in c:\\users\\danny\\anaconda3\\envs\\pythondata\\lib\\site-packages (from bleach->nbconvert>=5->dataframe-image) (0.5.1)\n",
      "Requirement already satisfied: certifi>=2017.4.17 in c:\\users\\danny\\anaconda3\\envs\\pythondata\\lib\\site-packages (from requests->dataframe-image) (2021.10.8)\n",
      "Requirement already satisfied: urllib3<1.27,>=1.21.1 in c:\\users\\danny\\anaconda3\\envs\\pythondata\\lib\\site-packages (from requests->dataframe-image) (1.26.9)\n"
     ]
    }
   ],
   "source": [
    "# Dependencies\n",
    "import numpy as np\n",
    "\n",
    "import pandas as pd\n",
    "\n",
    "# Python SQL toolkit and Object Relational Mapper\n",
    "import sqlalchemy\n",
    "from sqlalchemy.ext.automap import automap_base\n",
    "from sqlalchemy.orm import Session\n",
    "from sqlalchemy import create_engine, func\n",
    "\n",
    "from sqlalchemy import extract\n",
    "\n",
    "import dataframe_image as dfi"
   ]
  },
  {
   "cell_type": "markdown",
   "metadata": {},
   "source": []
  },
  {
   "cell_type": "code",
   "execution_count": 42,
   "metadata": {},
   "outputs": [],
   "source": [
    "engine = create_engine(\"sqlite:///hawaii.sqlite\")\n",
    "\n",
    "# reflect an existing database into a new model\n",
    "Base = automap_base()\n",
    "# reflect the tables\n",
    "Base.prepare(engine, reflect=True)\n",
    "\n",
    "# Save references to each table\n",
    "Measurement = Base.classes.measurement\n",
    "Station = Base.classes.station"
   ]
  },
  {
   "cell_type": "code",
   "execution_count": 43,
   "metadata": {},
   "outputs": [],
   "source": [
    "# Create our session (link) from Python to the DB\n",
    "session = Session(engine)"
   ]
  },
  {
   "cell_type": "markdown",
   "metadata": {},
   "source": [
    "## D1: Determine the Summary Statistics for June"
   ]
  },
  {
   "cell_type": "code",
   "execution_count": 44,
   "metadata": {},
   "outputs": [
    {
     "data": {
      "text/plain": [
       "<sqlalchemy.orm.query.Query at 0x2bdb3b28208>"
      ]
     },
     "execution_count": 44,
     "metadata": {},
     "output_type": "execute_result"
    }
   ],
   "source": [
    "# 1. Import the sqlalchemy extract function.\n",
    "from sqlalchemy import extract\n",
    "\n",
    "# 2. Write a query that filters the Measurement table to retrieve the temperatures for the month of June. \n",
    "june_temps = session.query(Measurement).filter(extract('month', Measurement.date))\n",
    "june_temps"
   ]
  },
  {
   "cell_type": "code",
   "execution_count": 45,
   "metadata": {},
   "outputs": [
    {
     "data": {
      "text/plain": [
       "[65.0, 63.0, 74.0, 76.0, 73.0]"
      ]
     },
     "execution_count": 45,
     "metadata": {},
     "output_type": "execute_result"
    }
   ],
   "source": [
    "#  3. Convert the June temperatures to a list.\n",
    "june_temps_list = [temp.tobs for temp in june_temps]\n",
    "june_temps_list [:5]"
   ]
  },
  {
   "cell_type": "code",
   "execution_count": 46,
   "metadata": {},
   "outputs": [
    {
     "data": {
      "text/html": [
       "<div>\n",
       "<style scoped>\n",
       "    .dataframe tbody tr th:only-of-type {\n",
       "        vertical-align: middle;\n",
       "    }\n",
       "\n",
       "    .dataframe tbody tr th {\n",
       "        vertical-align: top;\n",
       "    }\n",
       "\n",
       "    .dataframe thead th {\n",
       "        text-align: right;\n",
       "    }\n",
       "</style>\n",
       "<table border=\"1\" class=\"dataframe\">\n",
       "  <thead>\n",
       "    <tr style=\"text-align: right;\">\n",
       "      <th></th>\n",
       "      <th>June Temps</th>\n",
       "    </tr>\n",
       "  </thead>\n",
       "  <tbody>\n",
       "    <tr>\n",
       "      <th>0</th>\n",
       "      <td>65.0</td>\n",
       "    </tr>\n",
       "    <tr>\n",
       "      <th>1</th>\n",
       "      <td>63.0</td>\n",
       "    </tr>\n",
       "    <tr>\n",
       "      <th>2</th>\n",
       "      <td>74.0</td>\n",
       "    </tr>\n",
       "    <tr>\n",
       "      <th>3</th>\n",
       "      <td>76.0</td>\n",
       "    </tr>\n",
       "    <tr>\n",
       "      <th>4</th>\n",
       "      <td>73.0</td>\n",
       "    </tr>\n",
       "    <tr>\n",
       "      <th>...</th>\n",
       "      <td>...</td>\n",
       "    </tr>\n",
       "    <tr>\n",
       "      <th>19545</th>\n",
       "      <td>71.0</td>\n",
       "    </tr>\n",
       "    <tr>\n",
       "      <th>19546</th>\n",
       "      <td>78.0</td>\n",
       "    </tr>\n",
       "    <tr>\n",
       "      <th>19547</th>\n",
       "      <td>76.0</td>\n",
       "    </tr>\n",
       "    <tr>\n",
       "      <th>19548</th>\n",
       "      <td>76.0</td>\n",
       "    </tr>\n",
       "    <tr>\n",
       "      <th>19549</th>\n",
       "      <td>76.0</td>\n",
       "    </tr>\n",
       "  </tbody>\n",
       "</table>\n",
       "<p>19550 rows × 1 columns</p>\n",
       "</div>"
      ],
      "text/plain": [
       "       June Temps\n",
       "0            65.0\n",
       "1            63.0\n",
       "2            74.0\n",
       "3            76.0\n",
       "4            73.0\n",
       "...           ...\n",
       "19545        71.0\n",
       "19546        78.0\n",
       "19547        76.0\n",
       "19548        76.0\n",
       "19549        76.0\n",
       "\n",
       "[19550 rows x 1 columns]"
      ]
     },
     "execution_count": 46,
     "metadata": {},
     "output_type": "execute_result"
    }
   ],
   "source": [
    "# 4. Create a DataFrame from the list of temperatures for the month of June. \n",
    "june_temp_df = pd.DataFrame(june_temps_list, columns=['June Temps'])\n",
    "june_temp_df  "
   ]
  },
  {
   "cell_type": "code",
   "execution_count": 52,
   "metadata": {},
   "outputs": [
    {
     "data": {
      "text/html": [
       "<div>\n",
       "<style scoped>\n",
       "    .dataframe tbody tr th:only-of-type {\n",
       "        vertical-align: middle;\n",
       "    }\n",
       "\n",
       "    .dataframe tbody tr th {\n",
       "        vertical-align: top;\n",
       "    }\n",
       "\n",
       "    .dataframe thead th {\n",
       "        text-align: right;\n",
       "    }\n",
       "</style>\n",
       "<table border=\"1\" class=\"dataframe\">\n",
       "  <thead>\n",
       "    <tr style=\"text-align: right;\">\n",
       "      <th></th>\n",
       "      <th>June Temps</th>\n",
       "    </tr>\n",
       "  </thead>\n",
       "  <tbody>\n",
       "    <tr>\n",
       "      <th>count</th>\n",
       "      <td>19550.000000</td>\n",
       "    </tr>\n",
       "    <tr>\n",
       "      <th>mean</th>\n",
       "      <td>73.097954</td>\n",
       "    </tr>\n",
       "    <tr>\n",
       "      <th>std</th>\n",
       "      <td>4.523527</td>\n",
       "    </tr>\n",
       "    <tr>\n",
       "      <th>min</th>\n",
       "      <td>53.000000</td>\n",
       "    </tr>\n",
       "    <tr>\n",
       "      <th>25%</th>\n",
       "      <td>70.000000</td>\n",
       "    </tr>\n",
       "    <tr>\n",
       "      <th>50%</th>\n",
       "      <td>73.000000</td>\n",
       "    </tr>\n",
       "    <tr>\n",
       "      <th>75%</th>\n",
       "      <td>76.000000</td>\n",
       "    </tr>\n",
       "    <tr>\n",
       "      <th>max</th>\n",
       "      <td>87.000000</td>\n",
       "    </tr>\n",
       "  </tbody>\n",
       "</table>\n",
       "</div>"
      ],
      "text/plain": [
       "         June Temps\n",
       "count  19550.000000\n",
       "mean      73.097954\n",
       "std        4.523527\n",
       "min       53.000000\n",
       "25%       70.000000\n",
       "50%       73.000000\n",
       "75%       76.000000\n",
       "max       87.000000"
      ]
     },
     "execution_count": 52,
     "metadata": {},
     "output_type": "execute_result"
    }
   ],
   "source": [
    "# 5. Calculate and print out the summary statistics for the June temperature DataFrame.\n",
    "june_temp_summary_stat = june_temp_df.describe()\n",
    "\n",
    "# Export as an image\n",
    "dfi.export(june_temp_summary_stat, \"Images/june_temp_summary_stat.png\") \n",
    "\n",
    "\n",
    "june_temp_summary_stat\n",
    "\n"
   ]
  },
  {
   "cell_type": "markdown",
   "metadata": {},
   "source": [
    "## D2: Determine the Summary Statistics for December"
   ]
  },
  {
   "cell_type": "code",
   "execution_count": 55,
   "metadata": {},
   "outputs": [
    {
     "data": {
      "text/plain": [
       "<sqlalchemy.orm.query.Query at 0x2bdb7ea49c8>"
      ]
     },
     "execution_count": 55,
     "metadata": {},
     "output_type": "execute_result"
    }
   ],
   "source": [
    "# 6. Write a query that filters the Measurement table to retrieve the temperatures for the month of December.\n",
    "dec_temps = session.query(Measurement).filter(extract('month', Measurement.date))\n",
    "dec_temps"
   ]
  },
  {
   "cell_type": "code",
   "execution_count": 56,
   "metadata": {},
   "outputs": [
    {
     "data": {
      "text/plain": [
       "[65.0, 63.0, 74.0, 76.0, 73.0]"
      ]
     },
     "execution_count": 56,
     "metadata": {},
     "output_type": "execute_result"
    }
   ],
   "source": [
    "# 7. Convert the December temperatures to a list.\n",
    "dec_temps_list = [temp.tobs for temp in dec_temps]\n",
    "dec_temps_list [:5]"
   ]
  },
  {
   "cell_type": "code",
   "execution_count": 57,
   "metadata": {},
   "outputs": [
    {
     "data": {
      "text/html": [
       "<div>\n",
       "<style scoped>\n",
       "    .dataframe tbody tr th:only-of-type {\n",
       "        vertical-align: middle;\n",
       "    }\n",
       "\n",
       "    .dataframe tbody tr th {\n",
       "        vertical-align: top;\n",
       "    }\n",
       "\n",
       "    .dataframe thead th {\n",
       "        text-align: right;\n",
       "    }\n",
       "</style>\n",
       "<table border=\"1\" class=\"dataframe\">\n",
       "  <thead>\n",
       "    <tr style=\"text-align: right;\">\n",
       "      <th></th>\n",
       "      <th>December Temps</th>\n",
       "    </tr>\n",
       "  </thead>\n",
       "  <tbody>\n",
       "    <tr>\n",
       "      <th>0</th>\n",
       "      <td>65.0</td>\n",
       "    </tr>\n",
       "    <tr>\n",
       "      <th>1</th>\n",
       "      <td>63.0</td>\n",
       "    </tr>\n",
       "    <tr>\n",
       "      <th>2</th>\n",
       "      <td>74.0</td>\n",
       "    </tr>\n",
       "    <tr>\n",
       "      <th>3</th>\n",
       "      <td>76.0</td>\n",
       "    </tr>\n",
       "    <tr>\n",
       "      <th>4</th>\n",
       "      <td>73.0</td>\n",
       "    </tr>\n",
       "    <tr>\n",
       "      <th>...</th>\n",
       "      <td>...</td>\n",
       "    </tr>\n",
       "    <tr>\n",
       "      <th>19545</th>\n",
       "      <td>71.0</td>\n",
       "    </tr>\n",
       "    <tr>\n",
       "      <th>19546</th>\n",
       "      <td>78.0</td>\n",
       "    </tr>\n",
       "    <tr>\n",
       "      <th>19547</th>\n",
       "      <td>76.0</td>\n",
       "    </tr>\n",
       "    <tr>\n",
       "      <th>19548</th>\n",
       "      <td>76.0</td>\n",
       "    </tr>\n",
       "    <tr>\n",
       "      <th>19549</th>\n",
       "      <td>76.0</td>\n",
       "    </tr>\n",
       "  </tbody>\n",
       "</table>\n",
       "<p>19550 rows × 1 columns</p>\n",
       "</div>"
      ],
      "text/plain": [
       "       December Temps\n",
       "0                65.0\n",
       "1                63.0\n",
       "2                74.0\n",
       "3                76.0\n",
       "4                73.0\n",
       "...               ...\n",
       "19545            71.0\n",
       "19546            78.0\n",
       "19547            76.0\n",
       "19548            76.0\n",
       "19549            76.0\n",
       "\n",
       "[19550 rows x 1 columns]"
      ]
     },
     "execution_count": 57,
     "metadata": {},
     "output_type": "execute_result"
    }
   ],
   "source": [
    "# 8. Create a DataFrame from the list of temperatures for the month of December. \n",
    "dec_temp_df = pd.DataFrame(dec_temps_list, columns=['December Temps'])\n",
    "dec_temp_df  "
   ]
  },
  {
   "cell_type": "code",
   "execution_count": 59,
   "metadata": {},
   "outputs": [
    {
     "data": {
      "text/html": [
       "<div>\n",
       "<style scoped>\n",
       "    .dataframe tbody tr th:only-of-type {\n",
       "        vertical-align: middle;\n",
       "    }\n",
       "\n",
       "    .dataframe tbody tr th {\n",
       "        vertical-align: top;\n",
       "    }\n",
       "\n",
       "    .dataframe thead th {\n",
       "        text-align: right;\n",
       "    }\n",
       "</style>\n",
       "<table border=\"1\" class=\"dataframe\">\n",
       "  <thead>\n",
       "    <tr style=\"text-align: right;\">\n",
       "      <th></th>\n",
       "      <th>December Temps</th>\n",
       "    </tr>\n",
       "  </thead>\n",
       "  <tbody>\n",
       "    <tr>\n",
       "      <th>count</th>\n",
       "      <td>19550.000000</td>\n",
       "    </tr>\n",
       "    <tr>\n",
       "      <th>mean</th>\n",
       "      <td>73.097954</td>\n",
       "    </tr>\n",
       "    <tr>\n",
       "      <th>std</th>\n",
       "      <td>4.523527</td>\n",
       "    </tr>\n",
       "    <tr>\n",
       "      <th>min</th>\n",
       "      <td>53.000000</td>\n",
       "    </tr>\n",
       "    <tr>\n",
       "      <th>25%</th>\n",
       "      <td>70.000000</td>\n",
       "    </tr>\n",
       "    <tr>\n",
       "      <th>50%</th>\n",
       "      <td>73.000000</td>\n",
       "    </tr>\n",
       "    <tr>\n",
       "      <th>75%</th>\n",
       "      <td>76.000000</td>\n",
       "    </tr>\n",
       "    <tr>\n",
       "      <th>max</th>\n",
       "      <td>87.000000</td>\n",
       "    </tr>\n",
       "  </tbody>\n",
       "</table>\n",
       "</div>"
      ],
      "text/plain": [
       "       December Temps\n",
       "count    19550.000000\n",
       "mean        73.097954\n",
       "std          4.523527\n",
       "min         53.000000\n",
       "25%         70.000000\n",
       "50%         73.000000\n",
       "75%         76.000000\n",
       "max         87.000000"
      ]
     },
     "execution_count": 59,
     "metadata": {},
     "output_type": "execute_result"
    }
   ],
   "source": [
    "# 9. Calculate and print out the summary statistics for the Decemeber temperature DataFrame.\n",
    "dec_temp_summary_stat = dec_temp_df.describe()\n",
    "\n",
    "# Export as an image\n",
    "dfi.export(dec_temp_summary_stat, \"Images/dec_temp_summary_stat.png\") \n",
    "\n",
    "dec_temp_summary_stat"
   ]
  }
 ],
 "metadata": {
  "kernelspec": {
   "display_name": "Pythondata",
   "language": "python",
   "name": "pythondata"
  },
  "language_info": {
   "codemirror_mode": {
    "name": "ipython",
    "version": 3
   },
   "file_extension": ".py",
   "mimetype": "text/x-python",
   "name": "python",
   "nbconvert_exporter": "python",
   "pygments_lexer": "ipython3",
   "version": "3.7.13"
  }
 },
 "nbformat": 4,
 "nbformat_minor": 2
}
